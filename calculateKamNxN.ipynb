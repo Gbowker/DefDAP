{
 "cells": [
  {
   "cell_type": "markdown",
   "metadata": {},
   "source": [
    "# Calculate KAM with flexible nxn sized kernel"
   ]
  },
  {
   "cell_type": "code",
   "execution_count": 57,
   "metadata": {},
   "outputs": [],
   "source": [
    "#Load packages\n",
    "import numpy as np\n",
    "import matplotlib.pyplot as plt\n",
    "\n",
    "from scipy.interpolate import spline\n",
    "import scipy.stats\n",
    "import copy\n",
    "from scipy.signal import convolve2d\n",
    "\n",
    "import matplotlib as mpl\n",
    "from skimage import morphology as mph\n",
    "\n",
    "from quat import Quat\n",
    "\n",
    "import ebsd\n",
    "import hrdic\n",
    "\n",
    "#Set plot behaviour. interactive grain selection has only been tested in osx display mode\n",
    "%matplotlib osx"
   ]
  },
  {
   "cell_type": "markdown",
   "metadata": {},
   "source": [
    "## Load data"
   ]
  },
  {
   "cell_type": "code",
   "execution_count": 58,
   "metadata": {},
   "outputs": [],
   "source": [
    "mapFiles = [\"./example_data_AH/ebsdData\"]\n",
    "\n",
    "maps = []\n",
    "\n",
    "for i, mapFile in enumerate(mapFiles):\n",
    "    maps.append(ebsd.Map(mapFile, \"cubic\"))\n",
    "    maps[i].loadData(mapFile, \"cubic\")\n",
    "    maps[i].binData = maps[i].binData[::-1]  #rotate the map 180 degrees\n",
    "    maps[i].buildQuatArray()\n",
    "    maps[i].findBoundaries(boundDef = 6)\n",
    "    maps[i].findGrains(minGrainSize=10)\n",
    "    maps[i].calcGrainMisOri(calcAxis = True)"
   ]
  },
  {
   "cell_type": "code",
   "execution_count": 59,
   "metadata": {
    "collapsed": true
   },
   "outputs": [],
   "source": [
    "maps[0].plotMisOriMap()"
   ]
  },
  {
   "cell_type": "markdown",
   "metadata": {},
   "source": [
    "## Not ignoring large misOris"
   ]
  },
  {
   "cell_type": "code",
   "execution_count": 76,
   "metadata": {
    "collapsed": true
   },
   "outputs": [],
   "source": [
    "def convolve(data,step):\n",
    "    \n",
    "    kernel = np.ones((step,step)) / (step*step)\n",
    "    dataConvolved = convolve2d(data, kernel, mode='same', boundary='fill',fillvalue=0)\n",
    "    \n",
    "    return dataConvolved    "
   ]
  },
  {
   "cell_type": "code",
   "execution_count": 77,
   "metadata": {
    "collapsed": true
   },
   "outputs": [],
   "source": [
    "step = 3"
   ]
  },
  {
   "cell_type": "code",
   "execution_count": 78,
   "metadata": {},
   "outputs": [],
   "source": [
    "quatComps = np.empty((4, maps[0].yDim, maps[0].xDim))\n",
    "\n",
    "for i, row in enumerate(maps[0].quatArray):\n",
    "    for j, quat in enumerate(row):\n",
    "        quatComps[:, i, j] = quat.quatCoef\n",
    "        \n",
    "quatComps_convolved = np.empty((4, maps[0].yDim, maps[0].xDim))\n",
    "\n",
    "for i in range(len(quatComps)):\n",
    "    j=convolve(quatComps[i],step)\n",
    "    quatComps_convolved[i]=j\n",
    "\n",
    "kamMap = np.empty((maps[0].yDim, maps[0].xDim))\n",
    "for i in range(maps[0].yDim-1):\n",
    "    kamMap[i, :] = (abs(np.einsum(\"ij,ij->j\", quatComps[:, i, :], quatComps_convolved[:, i, :])))\n",
    "\n",
    "# kamMap[kamMap > 1] = 1\n",
    "\n",
    "# Do the same for columns\n",
    "# for i in range(maps[0].xDim-1): \n",
    "#     kamMap[:, i] += (abs(np.einsum(\"ij,ij->j\", quatComps[:, :, i], quatComps_convolved[:, :, i])))\n",
    "\n",
    "# kamMap /= 2\n",
    "\n",
    "# kamMap[kamMap > 1] = 1\n",
    "\n",
    "kamMapDegrees=np.empty((maps[0].yDim, maps[0].xDim))\n",
    "\n",
    "# do not show values > value degkam\n",
    "\n",
    "for i in range(maps[0].yDim):\n",
    "    for j in range(maps[0].xDim):\n",
    "        deg = 2 * np.arccos(kamMap[i,j]) * 180 / np.pi\n",
    "        if deg > 5:\n",
    "            deg = np.nan\n",
    "        \n",
    "        kamMapDegrees[i,j]=deg"
   ]
  },
  {
   "cell_type": "code",
   "execution_count": 79,
   "metadata": {},
   "outputs": [
    {
     "data": {
      "text/plain": [
       "<matplotlib.colorbar.Colorbar at 0x1409564a8>"
      ]
     },
     "execution_count": 79,
     "metadata": {},
     "output_type": "execute_result"
    }
   ],
   "source": [
    "plt.figure()\n",
    "plt.imshow(kamMapDegrees,vmax=1)\n",
    "plt.colorbar()"
   ]
  },
  {
   "cell_type": "markdown",
   "metadata": {},
   "source": [
    "## Ignoring large misOris"
   ]
  },
  {
   "cell_type": "code",
   "execution_count": 60,
   "metadata": {},
   "outputs": [],
   "source": [
    "def calcKamNxN(mapData,n=3,maxMisOri=5,plotKamData=False,plotGBs=False):\n",
    "\n",
    "    quatComps = np.empty((4, mapData.yDim, mapData.xDim))\n",
    "    for i, row in enumerate(mapData.quatArray):\n",
    "        for j, quat in enumerate(row):\n",
    "            quatComps[:, i, j] = quat.quatCoef\n",
    "    data = quatComps\n",
    "    \n",
    "    n=n    \n",
    "    if n <= 1:\n",
    "        raise ValueError(\"Please enter a kernel dimenion n, where n > 1 and n is an odd number\")\n",
    "    oddCheck = n%2\n",
    "    if oddCheck == 0:\n",
    "        raise ValueError(\"Please enter a kernel dimenion n, where n > 1 and n is an odd number\")\n",
    "    \n",
    "    else:\n",
    "\n",
    "        r=int((n-1)/2)\n",
    "\n",
    "        # kamData=np.empty((data.shape[1]-r,data.shape[2]-r))\n",
    "        kamData=np.zeros((data.shape[1],data.shape[2])) # initialise with zeroes so that the final kamMap is the same size as the data\n",
    "\n",
    "        for i in range(1,data.shape[1]-r): # avoid boundaries\n",
    "            for j in range(1,data.shape[2]-r):\n",
    "\n",
    "                dataKernel=np.zeros((4,n,n))\n",
    "                dataCentreArray=np.zeros((4,n,n))\n",
    "                misOriKernel=np.zeros((n,n))\n",
    "\n",
    "                for q in range(data.shape[0]):\n",
    "\n",
    "                    # define the data kernel\n",
    "                    for row in range(n):\n",
    "                        for column in range(n):                            \n",
    "                            dataKernel[q,row,column] = data[q,i-r+row,j-r+column]\n",
    "\n",
    "                    # define the dataCentre array\n",
    "                    dataCentreArray[q,:,:] = data[q,i,j]\n",
    "\n",
    "                # find the misOri between the central data point and the surrounding data points\n",
    "                for kernelI in range(misOriKernel.shape[0]):\n",
    "                    misOriKernel[kernelI,:] = abs(np.einsum(\"ij,ij->j\", dataCentreArray[:, kernelI, :], dataKernel[:, kernelI, :])) \n",
    "\n",
    "                # set an upper limit for the misOri between pixels in the kernel,\n",
    "                # giving values more than this limit a kernel value of 0\n",
    "                kernel=np.zeros((n,n))\n",
    "                for kernelI in range(kernel.shape[0]):\n",
    "                    for kernelJ in range(kernel.shape[1]):\n",
    "                        misoriVal=2*np.arccos(misOriKernel[kernelI,kernelJ])*180/np.pi\n",
    "                        if misoriVal >= maxMisOri: # set max misOri value\n",
    "                            kernalVal = 0\n",
    "                        else:\n",
    "                            kernalVal = 1\n",
    "\n",
    "                        kernel[kernelI,kernelJ] = kernalVal\n",
    "\n",
    "                # find number of zeroes in the kernel\n",
    "                numZeroes=kernel.flatten().tolist().count(0)\n",
    "\n",
    "                # convolve the kernel with the data  and get the average ori\n",
    "                # find mean of data, ignoring zeroes\n",
    "\n",
    "                convolvedDataKernel=(dataKernel*kernel)\n",
    "                avOriKernel=np.zeros((4,1,1))\n",
    "                for q in range(convolvedDataKernel.shape[0]):\n",
    "                    meanVal=np.sum(convolvedDataKernel[q])/((n*n) - numZeroes)\n",
    "                    avOriKernel[q]=meanVal        \n",
    "\n",
    "                # find misOri of pixel wrt. averageOri\n",
    "                pixelVal=dataCentreArray[:,0,0]\n",
    "                pixelVal_format=np.zeros((4,1,1))\n",
    "                for val in range(pixelVal_format.shape[0]):\n",
    "                    pixelVal_format[val] = pixelVal[val]\n",
    "                pixelVal=pixelVal_format\n",
    "\n",
    "                misOriVal=np.zeros((1,1))\n",
    "\n",
    "                for kernelI in range(misOriVal.shape[0]):\n",
    "                    misOriVal[kernelI,:] = abs(np.einsum(\"ij,ij->j\", avOriKernel[:, kernelI, :], pixelVal[:, kernelI, :]))\n",
    "                    misOriVal=2*np.arccos(misOriVal)*180/np.pi\n",
    "\n",
    "                # append the kam data list\n",
    "                kamData[i,j] = misOriVal\n",
    "\n",
    "        if plotKamData:\n",
    "            plt.figure()\n",
    "            plt.imshow(kamData,vmin=0,vmax=1)\n",
    "            plt.colorbar(shrink=0.85,label=\"KAM [ $^o$ ]\")\n",
    "            \n",
    "            if plotGBs:\n",
    "                cmap1 = mpl.colors.LinearSegmentedColormap.from_list('my_cmap', ['black', 'black'], 256)\n",
    "                cmap1._init()\n",
    "                cmap1._lut[:, -1] = np.linspace(0, 1, cmap1.N + 3)\n",
    "\n",
    "                boundaries_dilated=mph.binary_dilation(-mapData.boundaries)\n",
    "\n",
    "                plt.imshow(boundaries_dilated, cmap=cmap1, interpolation='None', vmin=0, vmax=1)\n",
    "                \n",
    "        return kamData"
   ]
  },
  {
   "cell_type": "code",
   "execution_count": 80,
   "metadata": {},
   "outputs": [
    {
     "name": "stderr",
     "output_type": "stream",
     "text": [
      "/Users/mclijah5/anaconda/envs/py36/lib/python3.6/site-packages/ipykernel_launcher.py:49: RuntimeWarning: invalid value encountered in arccos\n",
      "/Users/mclijah5/anaconda/envs/py36/lib/python3.6/site-packages/ipykernel_launcher.py:80: RuntimeWarning: invalid value encountered in arccos\n"
     ]
    }
   ],
   "source": [
    "kamMap3x3 = calcKamNxN(maps[0],n=3,maxMisOri=5, plotKamData=True,plotGBs=True)"
   ]
  },
  {
   "cell_type": "code",
   "execution_count": 81,
   "metadata": {},
   "outputs": [
    {
     "name": "stderr",
     "output_type": "stream",
     "text": [
      "/Users/mclijah5/anaconda/envs/py36/lib/python3.6/site-packages/ipykernel_launcher.py:49: RuntimeWarning: invalid value encountered in arccos\n",
      "/Users/mclijah5/anaconda/envs/py36/lib/python3.6/site-packages/ipykernel_launcher.py:80: RuntimeWarning: invalid value encountered in arccos\n"
     ]
    }
   ],
   "source": [
    "kamMap5x5 = calcKamNxN(maps[0],n=5,maxMisOri=5, plotKamData=True,plotGBs=True)"
   ]
  },
  {
   "cell_type": "code",
   "execution_count": 82,
   "metadata": {},
   "outputs": [
    {
     "name": "stderr",
     "output_type": "stream",
     "text": [
      "/Users/mclijah5/anaconda/envs/py36/lib/python3.6/site-packages/ipykernel_launcher.py:49: RuntimeWarning: invalid value encountered in arccos\n",
      "/Users/mclijah5/anaconda/envs/py36/lib/python3.6/site-packages/ipykernel_launcher.py:80: RuntimeWarning: invalid value encountered in arccos\n"
     ]
    }
   ],
   "source": [
    "kamMap7x7 = calcKamNxN(maps[0],n=7,maxMisOri=5, plotKamData=True,plotGBs=True)"
   ]
  },
  {
   "cell_type": "code",
   "execution_count": 83,
   "metadata": {},
   "outputs": [
    {
     "name": "stderr",
     "output_type": "stream",
     "text": [
      "/Users/mclijah5/anaconda/envs/py36/lib/python3.6/site-packages/ipykernel_launcher.py:49: RuntimeWarning: invalid value encountered in arccos\n",
      "/Users/mclijah5/anaconda/envs/py36/lib/python3.6/site-packages/ipykernel_launcher.py:80: RuntimeWarning: invalid value encountered in arccos\n"
     ]
    }
   ],
   "source": [
    "kamMap9x9 = calcKamNxN(maps[0],n=9,maxMisOri=5, plotKamData=True,plotGBs=True)"
   ]
  },
  {
   "cell_type": "code",
   "execution_count": null,
   "metadata": {
    "collapsed": true
   },
   "outputs": [],
   "source": []
  }
 ],
 "metadata": {
  "kernelspec": {
   "display_name": "Python 3",
   "language": "python",
   "name": "python3"
  },
  "language_info": {
   "codemirror_mode": {
    "name": "ipython",
    "version": 3
   },
   "file_extension": ".py",
   "mimetype": "text/x-python",
   "name": "python",
   "nbconvert_exporter": "python",
   "pygments_lexer": "ipython3",
   "version": "3.6.1"
  }
 },
 "nbformat": 4,
 "nbformat_minor": 2
}
